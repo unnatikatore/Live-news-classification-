{
 "cells": [
  {
   "cell_type": "code",
   "execution_count": 1,
   "id": "02216147",
   "metadata": {},
   "outputs": [],
   "source": [
    "import pandas as pd\n",
    "import numpy as np\n",
    "import matplotlib.pyplot as plt\n",
    "import seaborn as sns\n",
    "\n",
    "import sklearn"
   ]
  },
  {
   "cell_type": "code",
   "execution_count": 2,
   "id": "95788844",
   "metadata": {},
   "outputs": [
    {
     "data": {
      "text/html": [
       "<div>\n",
       "<style scoped>\n",
       "    .dataframe tbody tr th:only-of-type {\n",
       "        vertical-align: middle;\n",
       "    }\n",
       "\n",
       "    .dataframe tbody tr th {\n",
       "        vertical-align: top;\n",
       "    }\n",
       "\n",
       "    .dataframe thead th {\n",
       "        text-align: right;\n",
       "    }\n",
       "</style>\n",
       "<table border=\"1\" class=\"dataframe\">\n",
       "  <thead>\n",
       "    <tr style=\"text-align: right;\">\n",
       "      <th></th>\n",
       "      <th>Date</th>\n",
       "      <th>News</th>\n",
       "      <th>Category</th>\n",
       "      <th>Newspaper</th>\n",
       "    </tr>\n",
       "  </thead>\n",
       "  <tbody>\n",
       "    <tr>\n",
       "      <th>0</th>\n",
       "      <td>25-09-2023</td>\n",
       "      <td>Rajkummar Rao discusses the power of storytell...</td>\n",
       "      <td>Entertaiment</td>\n",
       "      <td>Hindustan Times</td>\n",
       "    </tr>\n",
       "    <tr>\n",
       "      <th>1</th>\n",
       "      <td>25-09-2023</td>\n",
       "      <td>I DON’T WANT TO BE NAIVE, BOX OFFICE SIGNIFIES...</td>\n",
       "      <td>Entertaiment</td>\n",
       "      <td>Hindustan Times</td>\n",
       "    </tr>\n",
       "    <tr>\n",
       "      <th>2</th>\n",
       "      <td>25-09-2023</td>\n",
       "      <td>Raghav, Parineeti opt for a subtle yet classy ...</td>\n",
       "      <td>Entertaiment</td>\n",
       "      <td>Hindustan Times</td>\n",
       "    </tr>\n",
       "    <tr>\n",
       "      <th>3</th>\n",
       "      <td>25-09-2023</td>\n",
       "      <td>Modi flags off 9 Vande Bharats across 11 states</td>\n",
       "      <td>Political</td>\n",
       "      <td>Hindustan Times</td>\n",
       "    </tr>\n",
       "    <tr>\n",
       "      <th>4</th>\n",
       "      <td>25-09-2023</td>\n",
       "      <td>India bag three silvers on Day 1 at Hangzhou</td>\n",
       "      <td>Sports</td>\n",
       "      <td>Hindustan Times</td>\n",
       "    </tr>\n",
       "    <tr>\n",
       "      <th>...</th>\n",
       "      <td>...</td>\n",
       "      <td>...</td>\n",
       "      <td>...</td>\n",
       "      <td>...</td>\n",
       "    </tr>\n",
       "    <tr>\n",
       "      <th>430</th>\n",
       "      <td>24-11-2023</td>\n",
       "      <td>3. Uttarkashi tunnel collapse LIVE updates | P...</td>\n",
       "      <td>India</td>\n",
       "      <td>News Today</td>\n",
       "    </tr>\n",
       "    <tr>\n",
       "      <th>431</th>\n",
       "      <td>24-11-2023</td>\n",
       "      <td>4. “It’s For Country To Decide…”: S Jaishankar...</td>\n",
       "      <td>India</td>\n",
       "      <td>News Today</td>\n",
       "    </tr>\n",
       "    <tr>\n",
       "      <th>432</th>\n",
       "      <td>24-11-2023</td>\n",
       "      <td>5. Minister urges Bihar CM to ban halal-certif...</td>\n",
       "      <td>India</td>\n",
       "      <td>News Today</td>\n",
       "    </tr>\n",
       "    <tr>\n",
       "      <th>433</th>\n",
       "      <td>24-11-2023</td>\n",
       "      <td>6. LeT sniper trained on Pak-Afghan front kill...</td>\n",
       "      <td>India</td>\n",
       "      <td>News Today</td>\n",
       "    </tr>\n",
       "    <tr>\n",
       "      <th>434</th>\n",
       "      <td>24-11-2023</td>\n",
       "      <td>7. Marriage Equality Petitioners Seek Open Cou...</td>\n",
       "      <td>India</td>\n",
       "      <td>News Today</td>\n",
       "    </tr>\n",
       "  </tbody>\n",
       "</table>\n",
       "<p>435 rows × 4 columns</p>\n",
       "</div>"
      ],
      "text/plain": [
       "          Date                                                News  \\\n",
       "0    25-09-2023  Rajkummar Rao discusses the power of storytell...   \n",
       "1    25-09-2023  I DON’T WANT TO BE NAIVE, BOX OFFICE SIGNIFIES...   \n",
       "2    25-09-2023  Raghav, Parineeti opt for a subtle yet classy ...   \n",
       "3    25-09-2023    Modi flags off 9 Vande Bharats across 11 states   \n",
       "4    25-09-2023       India bag three silvers on Day 1 at Hangzhou   \n",
       "..          ...                                                ...   \n",
       "430  24-11-2023  3. Uttarkashi tunnel collapse LIVE updates | P...   \n",
       "431  24-11-2023  4. “It’s For Country To Decide…”: S Jaishankar...   \n",
       "432  24-11-2023  5. Minister urges Bihar CM to ban halal-certif...   \n",
       "433  24-11-2023  6. LeT sniper trained on Pak-Afghan front kill...   \n",
       "434  24-11-2023  7. Marriage Equality Petitioners Seek Open Cou...   \n",
       "\n",
       "         Category        Newspaper  \n",
       "0    Entertaiment  Hindustan Times  \n",
       "1    Entertaiment  Hindustan Times  \n",
       "2    Entertaiment  Hindustan Times  \n",
       "3       Political  Hindustan Times  \n",
       "4          Sports  Hindustan Times  \n",
       "..            ...              ...  \n",
       "430         India       News Today  \n",
       "431         India       News Today  \n",
       "432         India       News Today  \n",
       "433         India       News Today  \n",
       "434         India       News Today  \n",
       "\n",
       "[435 rows x 4 columns]"
      ]
     },
     "execution_count": 2,
     "metadata": {},
     "output_type": "execute_result"
    }
   ],
   "source": [
    "bbc_text = pd.read_csv('news.csv')\n",
    "bbc_text"
   ]
  },
  {
   "cell_type": "code",
   "execution_count": 3,
   "id": "1c341593",
   "metadata": {},
   "outputs": [
    {
     "data": {
      "text/plain": [
       "array(['Entertaiment', 'Political', 'Sports', 'Education', 'Enviroment',\n",
       "       'Crime', 'India', 'Health', 'Business', 'World', 'Lifestyle',\n",
       "       'Technology', 'State'], dtype=object)"
      ]
     },
     "execution_count": 3,
     "metadata": {},
     "output_type": "execute_result"
    }
   ],
   "source": [
    "bbc_text.Category.unique()"
   ]
  },
  {
   "cell_type": "code",
   "execution_count": 4,
   "id": "3f6a224d",
   "metadata": {},
   "outputs": [
    {
     "data": {
      "text/plain": [
       "array([ 0,  1,  2,  3,  4,  5,  6,  7,  8,  9, 10, 11, 12], dtype=int64)"
      ]
     },
     "execution_count": 4,
     "metadata": {},
     "output_type": "execute_result"
    }
   ],
   "source": [
    "bbc_text.Category = bbc_text.Category.map({'Entertaiment':0, 'Political':1, 'Sports':2, 'Education':3, 'Enviroment':4,'Crime':5,'India':6,'Health':7,'Business':8,'World':9,'Lifestyle':10,'Technology':11,'State':12})\n",
    "bbc_text.Category.unique()"
   ]
  },
  {
   "cell_type": "code",
   "execution_count": 5,
   "id": "a886e165",
   "metadata": {},
   "outputs": [
    {
     "name": "stdout",
     "output_type": "stream",
     "text": [
      "<class 'pandas.core.frame.DataFrame'>\n",
      "RangeIndex: 435 entries, 0 to 434\n",
      "Data columns (total 4 columns):\n",
      " #   Column     Non-Null Count  Dtype \n",
      "---  ------     --------------  ----- \n",
      " 0   Date       435 non-null    object\n",
      " 1   News       435 non-null    object\n",
      " 2   Category   435 non-null    int64 \n",
      " 3   Newspaper  435 non-null    object\n",
      "dtypes: int64(1), object(3)\n",
      "memory usage: 13.7+ KB\n"
     ]
    }
   ],
   "source": [
    "bbc_text.info()"
   ]
  },
  {
   "cell_type": "code",
   "execution_count": 6,
   "id": "8fa59c63",
   "metadata": {},
   "outputs": [
    {
     "data": {
      "text/plain": [
       "(435, 4)"
      ]
     },
     "execution_count": 6,
     "metadata": {},
     "output_type": "execute_result"
    }
   ],
   "source": [
    "bbc_text.shape"
   ]
  },
  {
   "cell_type": "code",
   "execution_count": 7,
   "id": "0629d49d",
   "metadata": {},
   "outputs": [
    {
     "name": "stdout",
     "output_type": "stream",
     "text": [
      "303    1.      From October 11, Delhi HC to stream pr...\n",
      "324    ·        Uttarkashi Tunnel Collapse: Kin Talk ...\n",
      "347    India’s Defence Minister Rajnath Singh will pa...\n",
      "314    10.  Iraqi PM to visit Moscow on October 10-11...\n",
      "127    Israel says it’s ‘at war’ as terror attack kil...\n",
      "                             ...                        \n",
      "255                    AI belongs to the capitalists now\n",
      "72     1,600 TICKETLESS TRAVELLERS CAUGHT AT DADAR ST...\n",
      "396    Jaishankar ‘waiting for a thank you’ as India ...\n",
      "235    China says surge in respiratory illnesses is c...\n",
      "37     Speaker restores services of Delhi assembly fe...\n",
      "Name: News, Length: 304, dtype: object\n",
      "303     2\n",
      "324    12\n",
      "347     1\n",
      "314     1\n",
      "127     1\n",
      "       ..\n",
      "255    11\n",
      "72      5\n",
      "396    12\n",
      "235     9\n",
      "37      1\n",
      "Name: Category, Length: 304, dtype: int64\n"
     ]
    }
   ],
   "source": [
    "# bbc_news = bbc_text.values\n",
    "\n",
    "X = bbc_text.News\n",
    "y = bbc_text.Category\n",
    "\n",
    "#split\n",
    "from sklearn.model_selection import train_test_split\n",
    "X_train, X_test, y_train, y_test = train_test_split(X, y, train_size = 0.7, random_state = 1)\n",
    "print(X_train)\n",
    "print(y_train)"
   ]
  },
  {
   "cell_type": "code",
   "execution_count": 8,
   "id": "8ba06f3d",
   "metadata": {},
   "outputs": [],
   "source": [
    "# countVectorizer\n",
    "\n",
    "from sklearn.feature_extraction.text import CountVectorizer\n",
    "vec = CountVectorizer(stop_words = 'english')"
   ]
  },
  {
   "cell_type": "code",
   "execution_count": 9,
   "id": "61d9425c",
   "metadata": {},
   "outputs": [
    {
     "name": "stdout",
     "output_type": "stream",
     "text": [
      "1897\n",
      "{'from': 686, 'october': 1183, '11': 2, 'delhi': 479, 'hc': 778, 'to': 1714, 'stream': 1611, 'proceedings': 1321, 'by': 295, 'cj': 367, 'live': 1013, 'uttarkashi': 1788, 'tunnel': 1755, 'collapse': 384, 'kin': 947, 'talk': 1655, 'trapped': 1739, 'workers': 1870, 'as': 151, 'govt': 731, 'executes': 599, 'new': 1159, 'rescue': 1407, 'plan': 1277, 'india': 851, 'defence': 476, 'minister': 1090, 'rajnath': 1360, 'singh': 1535, 'will': 1855, 'participate': 1240, 'in': 850, 'the': 1687, '10th': 1, 'asean': 152, 'ministers': 1091, 'meeting': 1073, 'plus': 1285, 'jakarta': 892, '10': 0, 'iraqi': 876, 'pm': 1286, 'visit': 1807, 'moscow': 1112, 'on': 1195, 'meet': 1072, 'putin': 1335, 'sources': 1562, 'israel': 882, 'says': 1466, 'it': 886, 'at': 167, 'war': 1824, 'terror': 1680, 'attack': 171, 'kills': 946, 'dozens': 545, 'west': 1844, 'lights': 1004, 'camera': 303, 'back': 191, 'action': 72, 'us': 1785, 'senate': 1494, 'votes': 1814, 'avert': 181, 'shutdown': 1530, 'leaves': 987, 'out': 1216, 'ukraine': 1764, 'aid': 92, 'former': 678, 'governor': 730, 'of': 1186, 'nagaland': 1130, 'acharya': 70, 'passes': 1243, 'away': 186, '92': 56, 'cambridge': 301, 'school': 1470, 'srinivaspuri': 1580, 'organises': 1211, '31st': 31, 'deb': 464, 'memorial': 1075, 'inter': 869, 'oration': 1209, 'contest': 408, 'kejriwal': 931, 'our': 1215, 'fight': 641, 'is': 878, 'against': 85, 'drugs': 551, 'not': 1175, 'any': 132, 'individual': 857, 'families': 621, 'unite': 1776, 'hamas': 761, 'set': 1501, 'release': 1397, '3rd': 35, 'group': 744, 'israeli': 883, 'hostages': 822, 'onion': 1198, 'prices': 1315, 'soar': 1552, 'city': 366, 'retail': 1411, 'markets': 1050, 'molestation': 1104, 'policewoman': 1291, 'held': 790, 'detained': 494, 'kcr': 930, 'friend': 685, 'turned': 1757, 'foe': 669, 'makes': 1037, 'interesting': 871, 'but': 294, 'may': 1060, 'fall': 620, 'short': 1523, 'shiny': 1517, 'gajwel': 694, 'six': 1541, 'killed': 943, 'violence': 1803, 'over': 1218, 'land': 972, 'dispute': 522, 'assembly': 162, 'news': 1160, 'headlines': 781, 'for': 672, '16': 9, 'november': 1178, 'icc': 835, 'world': 1872, 'cup': 438, 'semi': 1493, 'final': 648, 'vs': 1815, 'zealand': 1891, 'gaza': 705, 'pro': 1318, 'kabaddi': 920, 'league': 983, 'patna': 1250, 'pirates': 1270, 'complete': 395, 'schedule': 1468, 'and': 121, 'squad': 1578, 'shehnaaz': 1515, 'gill': 712, 'raghav': 1350, 'juyal': 915, 'spark': 1564, 'dating': 452, 'rumours': 1439, 'two': 1761, 'are': 140, 'spotted': 1576, 'badrinath': 194, 'sisters': 1538, 'die': 507, 'suicide': 1625, 'after': 83, 'being': 224, 'gang': 701, 'raped': 1372, 'rahul': 1352, 'reiterates': 1394, 'caste': 317, 'census': 330, 'promise': 1323, 'mp': 1119, 'weather': 1838, 'hampers': 763, 'effort': 564, 'sikkim': 1534, 'toll': 1720, 'rises': 1426, 'cops': 416, 'file': 643, 'charge': 345, 'sheet': 1514, 'tahawwur': 1651, 'rana': 1366, '26': 25, 'attacks': 173, 'cricket': 430, 'legends': 991, 'travel': 1740, 'across': 71, '17': 10, 'states': 1597, 'vande': 1791, 'bharat': 240, 'express': 612, 'promote': 1325, 'sports': 1573, 'could': 419, 'lewis': 998, 'hamilton': 762, 'move': 1115, 'red': 1388, 'bull': 288, 'second': 1483, 'straight': 1610, 'season': 1479, 'without': 1865, 'single': 1537, 'race': 1347, 'victory': 1798, 'marriage': 1051, 'equality': 583, 'petitioners': 1261, 'seek': 1488, 'open': 1200, 'court': 423, 'hearing': 784, 'review': 1417, 'petition': 1260, 'cji': 368, 'agrees': 88, 'consider': 404, 'suriya': 1636, 'praises': 1311, 'mammootty': 1040, 'jyotika': 916, 'kaathal': 919, 'core': 417, 'when': 1847, 'beautiful': 214, 'minds': 1088, 'come': 387, 'together': 1716, 'we': 1835, 'get': 710, 'progressive': 1322, 'movies': 1118, 'like': 1005, 'this': 1697, 'congress': 402, 'looks': 1018, 'allies': 104, 'board': 261, 'key': 934, 'election': 567, 'issues': 885, 'tiger': 1704, 'rajasthan': 1357, 'enters': 576, 'kuno': 963, 'national': 1140, 'park': 1236, 'official': 1190, 'no': 1170, 'threat': 1698, 'cheetahs': 350, 'easy': 558, 'natural': 1143, 'movements': 1116, 'help': 791, 'you': 1885, 'up': 1780, 'ground': 742, 'ndia': 1148, 'australia': 179, 't20i': 1646, 'playing': 1282, 'xi': 1875, 'tip': 1711, 'off': 1187, 'gaikwad': 693, 'jaiswal': 891, 'continue': 409, 'openers': 1202, 'avesh': 182, 'replace': 1405, 'arshdeep': 147, 'head': 780, 'return': 1413, 'aus': 178, 'al': 99, 'shifa': 1516, 'hospital': 821, 'into': 872, 'battleground': 210, 'raided': 1353, 'patient': 1247, 'filled': 645, 'calling': 298, 'terrorist': 1682, 'base': 204, 'ipl': 874, '2024': 20, 'shubman': 1529, 'named': 1134, 'gujarat': 751, 'titans': 1712, 'captain': 311, 'hardik': 770, 'pandya': 1229, 'mumbai': 1123, 'indians': 853, 'militants': 1085, 'plant': 1279, 'ied': 839, 'ambush': 109, 'assam': 160, 'rifles': 1423, 'troops': 1748, 'patrol': 1252, 'manipur': 1042, 'mere': 1077, 'posturing': 1305, 'lg': 999, 'hard': 768, 'hitting': 811, 'politics': 1295, 'can': 305, 'wait': 1817, 'message': 1080, 'pollution': 1298, 'modi': 1101, 'slams': 1544, 'oppn': 1204, 'poll': 1296, 'pitch': 1272, 'raj': 1355, '80': 51, 'noise': 1173, 'cases': 316, 'filed': 644, 'ganesh': 700, 'festival': 636, 'eid': 565, 'celebrations': 328, 'now': 1179, 'gehlot': 706, 'led': 988, 'announces': 125, 'survey': 1639, 'antony': 129, 'trailer': 1736, 'joju': 905, 'george': 709, 'raw': 1375, 'rugged': 1436, 'notorious': 1177, 'joshiy': 907, 'actioner': 73, 'watch': 1831, 'aiadmk': 91, 'pulls': 1331, 'nda': 1147, 'ahead': 89, 'ls': 1026, 'polls': 1297, 'massive': 1053, 'fire': 654, 'breaks': 278, 'darbhanga': 448, 'etawah': 586, 'eight': 566, 'injured': 862, 'coaches': 380, 'gutted': 756, 'removal': 1400, 'bandi': 198, 'sanjay': 1459, 'kumar': 960, 'bjp': 254, 'telangana': 1671, 'chief': 353, 'hurting': 832, 'his': 807, 'chances': 340, 'karimnagar': 927, 'golden': 724, 'run': 1440, 'asian': 157, 'games': 696, 'sets': 1502, 'benchmark': 227, 'zerodha': 1892, 'nithin': 1169, 'kamath': 923, 'applauds': 135, 'mega': 1074, 'ipo': 875, 'week': 1840, 'if': 840, 'was': 1829, '2003': 15, 'lovers': 1023, 'toss': 1725, 'pick': 1265, 'side': 1531, 'gurugram': 755, 'quack': 1337, '132': 6, 'cuts': 441, 'woman': 1867, 'treat': 1742, 'vitiligo': 1810, 'scores': 1473, 'feared': 628, 'dead': 458, 'flash': 662, 'floods': 665, 'little': 1012, 'chance': 339, 'more': 1111, 'rain': 1354, 'capital': 308, 'sept': 1497, 'end': 573, 'big': 245, 'deficit': 477, 'envoy': 581, 'sandhu': 1458, 'visits': 1808, 'gurudwara': 754, 'york': 1884, 'khalistan': 936, 'supporters': 1632, 'heckle': 787, 'him': 804, 'deve': 498, 'gowda': 732, 'urges': 1783, 'form': 676, 'panel': 1230, 'assess': 163, 'water': 1832, 'crop': 435, 'situation': 1540, 'taka': 1652, 'popular': 1300, 'ayurvedic': 187, 'herbs': 793, 'health': 783, 'immunity': 847, 'rajkummar': 1359, 'rao': 1371, 'discusses': 521, 'power': 1307, 'storytelling': 1609, 'spotify': 1574, 'podcasters': 1288, 'day': 456, 'sahara': 1451, 'matter': 1057, 'even': 590, 'subrata': 1618, 'roy': 1435, 'death': 462, 'sebi': 1482, 'madhabi': 1030, 'puri': 1333, 'buch': 285, 'recognition': 1385, 'have': 775, 'medals': 1069, 'malaysia': 1039, 'allow': 105, 'visa': 1806, 'free': 682, 'entry': 579, 'chinese': 357, 'indian': 852, 'nationals': 1141, 'dec': 466, 'aditi': 77, 'ashok': 153, 'wins': 1860, 'ladies': 967, 'european': 588, 'tour': 1726, 'ending': 574, 'event': 591, 'britain': 282, 'other': 1214, 'countries': 421, 'ink': 863, 'agreement': 87, 'make': 1035, 'ai': 90, 'secure': 1487, 'design': 490, 'jaishankar': 890, 'asks': 159, 'canada': 306, 'give': 714, 'evidence': 593, 'hardeep': 769, 'nijjar': 1166, 'killing': 945, 'case': 315, 'athletes': 169, 'bring': 280, 'glory': 718, 'track': 1728, 'field': 639, 'disciplines': 516, 'government': 729, 'soon': 1560, 'decide': 469, 'artificial': 148, 'odd': 1184, 'rule': 1438, 'curb': 439, 'severe': 1504, 'aqi': 137, 'state': 1596, 'veg': 1795, 'only': 1199, 'tables': 1648, 'iit': 843, 'mess': 1079, 'row': 1434, 'degree': 478, 'swing': 1643, 'change': 341, 'tactic': 1649, 'batting': 209, 'updates': 1782, 'calls': 299, 'cm': 379, 'dhami': 501, 'takes': 1653, 'stock': 1604, 'ops': 1206, 'budget': 286, 'expectations': 606, '2023': 19, 'pune': 1332, 'educationists': 562, 'want': 1822, 'nep': 1153, 'focused': 668, 'initiatives': 861, 'undp': 1768, 'carbon': 314, 'registry': 1392, 'revolutionising': 1419, 'climate': 377, 'suhana': 1624, 'khan': 938, 'describes': 489, 'herself': 796, 'an': 117, 'overthinker': 1219, 'shares': 1509, 'what': 1845, 'she': 1513, 'does': 536, 'anxious': 131, 'star': 1591, 'pawan': 1253, 'kalyan': 922, 'kushi': 964, 'returns': 1414, 'special': 1568, 'screening': 1474, 'pawanism': 1254, 'forces': 673, 'kill': 942, 'least': 986, 'palestinians': 1225, 'surging': 1635, 'bank': 200, 'officials': 1191, 'say': 1465, 'wall': 1820, 'street': 1612, 'analyst': 120, 'gets': 711, 'fired': 655, 'yelling': 1879, 'go': 720, 'your': 1887, 'country': 422, 'jewish': 900, 'american': 112, 'warren': 1828, 'buffet': 287, 'berkshire': 231, 'exits': 602, 'paytm': 1255, '620': 44, 'crore': 436, 'loss': 1020, 'sells': 1492, 'stake': 1585, 'south': 1563, 'korean': 957, 'turns': 1758, 'matchmaking': 1056, 'boost': 270, 'low': 1024, 'birth': 252, 'rates': 1373, 'road': 1428, 'push': 1334, 'bargains': 203, 'finds': 651, 'easier': 557, 'said': 1452, 'than': 1684, 'done': 539, 'finding': 650, 'days': 457, 'warmer': 1825, 'usual': 1786, 'blame': 256, 'lack': 965, 'with': 1862, 'trump': 1752, 'again': 84, 'absent': 64, 'republican': 1406, 'rivals': 1427, 'trade': 1729, 'barbs': 202, 'soumya': 1561, 'murder': 1124, 'convicts': 413, 'given': 715, 'life': 1002, 'terms': 1679, 'opposition': 1205, 'criticised': 433, 'decision': 470, 'kisan': 948, 'funds': 689, '15': 8, 'just': 911, 'elections': 568, 'elon': 571, 'musk': 1126, 'tim': 1707, 'cook': 414, 'checkout': 349, 'list': 1011, 'tech': 1668, 'leaders': 982, 'attending': 175, 'biden': 243, 'dinner': 511, 'neville': 1158, 'singham': 1536, 'probe': 1319, 'agency': 86, 'summons': 1626, 'newsclick': 1161, 'uncovers': 1765, 'suave': 1617, 'pit': 1271, 'headquarters': 782, 'idf': 837, 'downs': 544, 'long': 1017, 'range': 1368, 'kornet': 958, 'missiles': 1093, 'temple': 1674, 'varanasi': 1792, 'glow': 719, 'light': 1003, 'guru': 753, 'nanak': 1136, 'jayanti': 897, 'dev': 497, 'deepavali': 473, 'whatsapp': 1846, 'might': 1083, 'start': 1594, 'showing': 1527, 'status': 1600, 'chat': 347, 'window': 1857, 'influenced': 858, 'call': 297, 'dialogue': 504, 'resolve': 1408, 'conflict': 401, 'piyush': 1274, 'goyal': 733, 'uk': 1763, 'presides': 1313, 'repatriation': 1404, 'stolen': 1605, 'idols': 838, '8th': 52, 'century': 332, 'attackers': 172, 'seize': 1490, 'linked': 1008, 'tanker': 1659, 'yemen': 1880, 'third': 1696, 'such': 1622, 'assault': 161, 'during': 552, 'let': 995, 'sniper': 1549, 'trained': 1737, 'pak': 1222, 'afghan': 81, 'front': 687, 'rajouri': 1361, 'army': 144, 'teams': 1666, 'maestro': 1032, 'se': 1477, 'yeong': 1881, 'oh': 1192, 'high': 798, 'octane': 1182, 'thriller': 1702, 'exam': 596, 'date': 450, 'cbse': 325, 'bihar': 249, 'boards': 262, '12th': 4, 'timetable': 1710, 'one': 1196, 'largest': 974, 'icebergs': 836, 'drifting': 547, 'beyond': 236, 'antarctic': 128, 'waters': 1834, 'grounded': 743, 'decades': 467, 'kishore': 950, 'granddaughter': 735, 'muktika': 1122, 'mark': 1048, 'stage': 1583, 'debut': 465, 'son': 1558, 'amit': 115, 'malayalam': 1038, 'film': 646, 'that': 1686, 'chronicled': 363, 'stories': 1607, 'behind': 223, '2018': 17, 'kerala': 933, 'flood': 664, 'oscars': 1213, 'amidst': 114, 'chaos': 343, 'brazilian': 276, 'pep': 1257, 'guardiola': 749, 'fernando': 634, 'diniz': 510, 'sparkles': 1565, 'hopes': 819, 'revolution': 1418, 'selecao': 1491, 'quirky': 1345, 'deals': 460, 'discounts': 519, 'dhamaka': 500, 'ready': 1378, 'be': 212, 'served': 1499, 'rbi': 1376, 'supersedes': 1629, 'abhyudaya': 62, 'cooperative': 415, 'year': 1877, 'cites': 365, 'poor': 1299, 'governance': 728, 'working': 1871, 'indie': 855, 'music': 1125, 'has': 772, 'made': 1029, 'me': 1064, 'happier': 766, 'artiste': 149, 'air': 94, 'zone': 1894, 'down': 543, 'whopping': 1851, '64': 45, 'surge': 1634, 'imports': 849, 'show': 1526, 'how': 825, 'guzzling': 757, 'discounted': 518, 'russian': 1444, 'oil': 1193, 'despite': 491, 'dwindling': 553, 'sales': 1454, 'cracker': 425, 'traders': 1731, 'expect': 605, '300': 30, 'business': 293, 'riders': 1422, 'pull': 1330, 'surprise': 1637, '41': 36, 'cat': 319, 'slot': 1545, 'paper': 1232, 'moderate': 1100, 'difficult': 508, 'check': 348, 'analysis': 119, 'here': 794, 'catherine': 320, 'zeta': 1893, 'jones': 906, 'doctor': 532, 'saved': 1464, 'her': 792, 'because': 216, 'brilliance': 279, 'jersey': 898, 'driver': 550, 'arrested': 146, 'crashing': 427, 'suv': 1642, 'home': 816, 'police': 1290, 'station': 1598, 'decode': 472, 'karnataka': 928, 'order': 1210, 'means': 1066, 'shivakumar': 1519, 'varun': 1794, 'sharma': 1512, 'pankaj': 1231, 'tripathi': 1746, 'fab': 616, 'toilet': 1717, 'humour': 829, 'mollifies': 1105, 'ajit': 96, 'guardian': 748, 'bobby': 263, 'deol': 486, 'why': 1852, 'he': 779, 'didn': 506, 'advice': 79, 'dharmendra': 503, 'sunny': 1627, 'animal': 123, 'deols': 487, 'don': 538, 'chemistry': 351, 'nobel': 1171, 'work': 1869, 'quantum': 1339, 'dots': 541, 'khalistanis': 937, 'threaten': 1699, 'disrupt': 523, 'routine': 1433, 'activities': 75, 'missions': 1094, 'lot': 1022, 'quieter': 1344, 'black': 255, 'friday': 684, 'brings': 281, 'discount': 517, 'hunters': 831, 'five': 660, 'family': 622, 'killedin': 944, 'property': 1326, 'growing': 746, 'tensions': 1678, 'washington': 1830, 'divide': 524, 'widens': 1853, 'bangladesh': 199, 'political': 1293, 'landscape': 973, 'serie': 1498, 'juventus': 914, 'milan': 1084, 'share': 1508, 'spoils': 1572, 'top': 1723, 'table': 1647, 'clash': 371, '24': 23, 'deaths': 463, 'hrs': 828, 'nanded': 1137, 'today': 1715, 'place': 1275, 'double': 542, 'standards': 1589, 'eam': 555, 'nothing': 1176, 'tenable': 1675, 'china': 356, '2020': 18, 'actions': 74, 'feel': 630, 'sh': 1505, 'saba': 1449, 'trolled': 1747, 'hrithik': 827, 'waiting': 1818, 'thank': 1685, 'softens': 1554, 'amid': 113, 'russia': 1443, 'president': 1312, 'joe': 903, 'commented': 389, 'real': 1379, 'problems': 1320, 'eve': 589, 'important': 848, 'counterpart': 420, 'jinping': 902, 'imd': 845, 'issued': 884, 'warning': 1826, 'fishermen': 658, 'pressure': 1314, 'area': 141, 'formed': 677, 'bay': 211, 'bengal': 229, 'cyclones': 443, 'were': 1843, 'likely': 1006, 'hung': 830, 'curd': 440, 'better': 233, 'mayonnaise': 1061, 'yoghurt': 1883, 'maxfort': 1059, 'paschim': 1242, 'vihar': 1801, 'exposition': 610, 'titled': 1713, 'nirupan': 1168, 'positions': 1303, 'future': 691, 'growth': 747, 'powerhouse': 1308, 'diwali': 528, 'hindi': 805, 'songs': 1559, 'celebrate': 326, 'joyous': 910, 'spirit': 1571, 'neeraj': 1151, 'chopra': 359, 'bolt': 264, 'these': 1693, 'fans': 623, 'heart': 785, 'striking': 1615, 'young': 1886, 'adults': 78, 'hidden': 797, 'complication': 396, 'must': 1127, 'know': 951, 'about': 63, 'merry': 1078, 'christmas': 361, 'postponed': 1304, 'hit': 809, 'theatres': 1688, 'mj': 1097, 'moonwalk': 1110, 'hat': 773, 'sold': 1556, '68': 46, 'lakh': 969, 'tragedy': 1735, 'unfolded': 1770, 'college': 385, 'fest': 635, 'cochin': 382, 'university': 1777, 'where': 1848, 'four': 680, 'students': 1616, '60': 42, 'stampede': 1587, 'saturday': 1462, 'night': 1165, 'tokyo': 1718, 'exchange': 598, 'credit': 429, 'trading': 1733, '12': 3, 'yr': 1889, 'old': 1194, 'goes': 721, 'door': 540, 'ujjain': 1762, 'horror': 820, 'iisc': 842, 'tops': 1724, 'times': 1709, 'higher': 799, 'education': 561, 'rankings': 1370, 'between': 235, 'groups': 745, 'saswad': 1461, '13': 5, 'kareena': 926, 'kapoor': 924, 'wants': 1823, 'unfollow': 1771, 'bff': 237, 'karan': 925, 'johar': 904, 'releases': 1398, 'part': 1239, 'truce': 1750, 'deal': 459, 'construction': 407, 'ceo': 333, 'children': 354, 'car': 313, 'accident': 68, 'another': 127, 'shooting': 1522, 'gold': 723, 'equestrian': 584, 'history': 808, 'psu': 1328, 'general': 708, 'insurers': 868, 'lose': 1019, 'market': 1049, 'further': 690, 'bigg': 246, 'boss': 271, 'youtuber': 1888, 'anurag': 130, 'dobhal': 531, 'demands': 481, 'voluntary': 1813, 'exit': 601, 'house': 823, 'cinema': 364, 'living': 1014, 'legend': 990, 'waheeda': 1816, 'rehman': 1393, 'honoured': 818, 'dadasaheb': 446, 'phalke': 1263, 'award': 184, 'kobo': 953, 'libra': 1000, 'clara': 370, '2e': 27, 'nia': 1163, 'ereaders': 585, 'audio': 177, 'books': 269, 'too': 1722, 'traded': 1730, 'cam': 300, 'green': 740, 'moves': 1117, 'rcb': 1377, 'harvest': 771, 'time': 1708, 'kashmir': 929, 'baahubali': 188, 'statue': 1599, 'irks': 877, 'makers': 1036, 'ram': 1363, 'charan': 344, 'lic': 1001, 'nearly': 1149, 'shoaib': 1520, 'akhtar': 97, 'believes': 225, 'rohit': 1429, 'virat': 1805, 'kohli': 955, 'play': 1280, 'next': 1162, 't20': 1645, 'team': 1665, 'samba': 1455, 'dean': 461, 'booked': 268, 'levels': 997, 'affecting': 80, 'brain': 275, 'determined': 496, 'support': 1631, 'its': 887, 'maritime': 1047, 'sector': 1486, 'nirmala': 1167, 'sitharaman': 1539, 'fake': 619, 'doctors': 533, 'patients': 1248, 'medical': 1071, 'racket': 1349, 'ec': 559, 'tells': 1672, 'stop': 1606, 'disbursal': 515, 'rythu': 1448, 'bandhu': 197, 'assistance': 164, 'mcc': 1063, 'brs': 284, 'reconsider': 1386, 'hints': 806, 'expanded': 603, 'role': 1431, 'military': 1086, 'within': 1864, 'legacy': 989, 'law': 980, 'gives': 716, 'few': 638, 'guardrails': 750, 'hairbows': 759, 'been': 219, 'everywhere': 592, 'some': 1557, 'inspo': 866, 'wear': 1837, 'them': 1690, 'bombings': 265, '57': 39, 'people': 1256, 'pakistan': 1223, 'condolences': 399, 'pour': 1306, '36': 33, 'bus': 292, 'imeec': 846, 'win': 1856, 'stakeholders': 1586, 'fm': 667, 'unequivocally': 1769, 'stand': 1588, 'trudeau': 1751, 'diplomatic': 512, 'settle': 1503, 'marginally': 1046, 'lower': 1025, 'volatile': 1812, 'minimum': 1089, 'temperature': 1673, 'dips': 513, '18': 12, 'clear': 375, 'skies': 1542, 'heavy': 786, 'continues': 410, 'javed': 896, 'daughter': 453, 'zoya': 1896, 'launching': 979, 'kids': 941, 'shouldn': 1525, 'questioned': 1341, 'witch': 1861, 'hazel': 777, 'ingredient': 860, 'casting': 318, 'spell': 1570, 'beauty': 215, '179': 11, 'buried': 290, 'mass': 1052, 'grave': 737, 'fuel': 688, 'supplies': 1630, 'ran': 1365, 'director': 514, 'indicative': 854, 'targets': 1660, 'blending': 258, 'sustainable': 1641, 'aviation': 183, 'atf': 168, '2027': 21, 'foretold': 675, 'crony': 434, 'capitalism': 309, 'crisis': 432, 'signs': 1533, 'evident': 594, 'wild': 1854, 'monsoon': 1108, 'swings': 1644, 'tata': 1661, 'subscribed': 1619, '69': 47, '43': 37, 'offer': 1188, 'explained': 607, 'there': 1692, 'transfer': 1738, 'fee': 629, 'involved': 873, 'do': 530, 'trades': 1732, 'parade': 1234, 'trophy': 1749, 'reunion': 1415, 'or': 1208, 'public': 1329, 'winners': 1858, 'yet': 1882, 'receive': 1383, 'their': 1689, 'champions': 337, 'welcome': 1841, 'arunachal': 150, 'pradesh': 1310, 'reaping': 1380, 'benefits': 228, 'tourism': 1727, 'practices': 1309, 'nakap': 1132, 'nalo': 1133, 'houthis': 824, 'launched': 978, 'ballistic': 196, 'also': 106, 'threatened': 1700, 'ships': 1518, 'sea': 1478, '35': 32, 'three': 1701, 'van': 1790, 'plunges': 1284, 'gorge': 726, 'doda': 535, 'africa': 82, 'face': 617, 'each': 554, 'odi': 1185, 'politicians': 1294, 'community': 392, 'denounce': 485, 'denial': 483, 'envo': 580, 'linking': 1009, 'quota': 1346, 'population': 1302, 'ploy': 1283, 'had': 758, 'perfect': 1258, 'game': 695, 'bat': 205, 'quick': 1342, 'fifties': 640, 'blitz': 259, 'cameo': 302, 'fact': 618, 'vidya': 1800, 'balan': 195, 'doesn': 537, 'secret': 1485, 'technologies': 1669, 'closes': 378, 'bids': 244, 'worth': 1873, '56': 38, 'highlight': 800, 'wood': 1868, 'starry': 1593, 'appearance': 134, 'f1': 615, 'championship': 338, 'coal': 381, 'firm': 656, 'office': 1189, '38': 34, 'delight': 480, 'places': 1276, 'right': 1425, 'asiad': 156, 'quest': 1340, 'ranbir': 1367, 'names': 1135, 'jailer': 889, 'leo': 993, 'vikram': 1802, 'favourite': 626, 'films': 647, 'very': 1797, 'inspiring': 865, 'scientists': 1471, 'who': 1850, 'captured': 312, 'changes': 342, 'atoms': 170, 'opened': 1201, 'electrons': 570, 'would': 1874, 'diy': 529, 'amla': 116, 'methi': 1082, 'conditioner': 398, 'try': 1753, 'teenagers': 1670, 'trial': 1744, 'alleged': 103, 'beheading': 222, 'french': 683, 'teacher': 1663, 'hp': 826, 'tweaks': 1760, 'extension': 614, 'policy': 1292, 'winning': 1859, 'teachers': 1664, 'iffi': 841, 'censorship': 329, 'late': 976, 'mla': 1098, 'poem': 1289, 'discrimination': 520, 'triggers': 1745, 'controversy': 411, 'mahadev': 1033, 'betting': 234, 'app': 133, 'dabur': 444, 'chairman': 335, 'mohit': 1102, 'burman': 291, 'gaurav': 704, 'accused': 69, 'fir': 653, 'centre': 331, 'told': 1719, 'frame': 681, 'services': 1500, 'deepening': 474, 'babus': 190, 'faultline': 625, 'cs': 437, 'aap': 59, 'tussle': 1759, 'liquor': 1010, 'scams': 1467, 'jewel': 899, 'thieves': 1695, 'drill': 548, 'hole': 815, '25': 24, 'heist': 789, 'jangpura': 893, 'tamil': 1658, 'nadu': 1129, 'bills': 250, 'expressed': 613, 'concerns': 397, 'pitches': 1273, 'mixing': 1096, 'fitness': 659, 'cleanliness': 374, 'badminton': 193, 'prize': 1317, 'money': 1107, 'so': 1551, 'less': 994, 'compared': 394, 'tennis': 1677, 'stirs': 1603, 'skipping': 1543, 'union': 1774, 'ashwini': 155, 'vaishnaw': 1789, 'holds': 814, 'social': 1553, 'media': 1070, 'companies': 393, 'deepfakes': 475, 'sana': 1457, 'angry': 122, 'paps': 1233, 'clicking': 376, 'sharing': 1511, 'pics': 1267, 'decibel': 468, 'campaign': 304, 'ends': 575, 'madhya': 1031, 'chhattisgarh': 352, 'parineeti': 1235, 'opt': 1207, 'subtle': 1620, 'classy': 373, 'wedding': 1839, 'soirée': 1555, 'mania': 1041, 'grips': 741, 'hangzhou': 765, 'hyderabad': 834, 'startup': 1595, 'hitwicket': 812, 'isn': 881, 'taking': 1654, 'traditional': 1734, 'route': 1432, 'gaming': 697, 'success': 1621, 'cyber': 442, 'monday': 1106, 'gadgets': 692, 'accessories': 67, 'amazon': 107, '19': 13, 'ex': 595, 'gratia': 736, 'koffee': 954, 'promo': 1324, 'alia': 101, 'bhatt': 242, 'kontroversial': 956, 'couch': 418, 'asked': 158, 'feud': 637, 'ameesha': 110, 'patel': 1245, 'vistara': 1809, 'netflix': 1156, 'retro': 1412, 'themed': 1691, 'flight': 663, 'archies': 139, 'chouhan': 360, 'raman': 1364, 'garh': 702, 'parl': 1237, 'handshakes': 764, 'smiles': 1547, 'pacts': 1221, 'cold': 383, 'rachin': 1348, 'ravindra': 1374, 'indies': 856, 'hayley': 776, 'matthews': 1058, 'player': 1281, 'month': 1109, 'awards': 185, 'reveal': 1416, 'they': 1694, '30': 29, 'taxpayers': 1662, 'line': 1007, 'avail': 180, 'rebate': 1382, 'champion': 336, 'verstappen': 1796, 'abu': 65, 'dhabi': 499, 'gp': 734, '19th': 14, 'record': 1387, 'breaking': 277, 'years': 1878, '201': 16, 'witnesses': 1866, 'deposed': 488, 'lakhimpur': 970, 'cancerous': 307, 'lump': 1027, '5kg': 41, 'removed': 1401, '90': 53, 'abdomen': 60, 'terrorists': 1683, 'kulgam': 959, 'encounter': 572, 'operation': 1203, 'underway': 1766, 'belongs': 226, 'capitalists': 310, 'caa': 296, 'draft': 546, 'march': 1045, 'min': 1087, 'ajay': 95, 'mishra': 1092, 'yashasvi': 1876, 'ruturaj': 1446, 'ishan': 879, 'kishan': 949, 'script': 1475, 'unique': 1775, 'explosive': 608, 'outing': 1217, '2nd': 28, 'journalist': 909, 'strike': 1614, 'kundra': 962, 'starring': 1592, 'backing': 192, 'detailing': 492, 'jail': 888, 'bengaluru': 230, 'harassed': 767, 'chased': 346, 'men': 1076, 'sarjapur': 1460, 'husband': 833, 'chilling': 355, 'story': 1608, 'boy': 273, 'leaks': 984, 'obscene': 1180, 'photos': 1264, 'girl': 713, 'refused': 1390, 'relationship': 1396, 'clashed': 372, 'edge': 560, 'seat': 1480, 'beat': 213, '70': 49, 'runs': 1441, 'book': 267, 'berth': 232, 'finals': 649, 'neena': 1150, 'gupta': 752, 'got': 727, 'rejected': 1395, 'tenet': 1676, 'going': 722, 'christopher': 362, 'nolan': 1174, 'dimple': 509, 'never': 1157, 'went': 1842, 'mouth': 1114, 'watering': 1833, 'oneplus': 1197, 'renders': 1403, 'redmi': 1389, '13c': 7, 'launch': 977, 'announcement': 124, 'hold': 813, 'parliamentary': 1238, 'january': 894, 'quake': 1338, 'hits': 810, 'nepal': 1154, 'tremors': 1743, 'felt': 633, 'hal': 760, 'plans': 1278, 'division': 526, 'exports': 609, 'dhankhar': 502, 'global': 717, 'nations': 1142, 'follow': 670, 'example': 597, 'colonial': 386, 'laws': 981, 'abhishek': 61, 'lashes': 975, 'khanzaadi': 939, 'bathinda': 206, 'arrest': 145, 'warrant': 1827, 'manpreet': 1043, 'masters': 1054, 'super': 1628, '750': 50, 'satwik': 1463, 'chirag': 358, 'scripting': 1476, 'epic': 582, 'comeback': 388, 'jarange': 895, 'patil': 1249, 'kicks': 940, 'maratha': 1044, 'joshna': 908, 'anahat': 118, 'passing': 1244, 'baton': 207, 'bjd': 253, 'naveen': 1144, 'patnaik': 1251, 'aide': 93, 'vk': 1811, 'pandian': 1228, 'stretch': 1613, 'sachin': 1450, 'pilot': 1269, 'gandhi': 699, 'forecast': 674, 'ali': 100, 'fazal': 627, 'richa': 1420, 'chadha': 334, 'turn': 1756, 'documentary': 534, 'still': 1602, 'considers': 406, 'dictator': 505, 'shortly': 1524, 'aaj': 58, 'ka': 918, 'panchang': 1227, '28': 26, 'shubh': 1528, 'ashubh': 154, 'muhurat': 1120, 'annual': 126, 'exhibition': 600, 'zeal': 1890, '5k': 40, 'cr': 424, 'infra': 859, 'gana': 698, '91': 55, 'varsities': 1793, 'rani': 1369, 'mukerji': 1121, 'claims': 369, 'snatched': 1548, 'food': 671, 'kajol': 921, 'stages': 1584, 'walkout': 1819, 'hilarious': 802, 'flags': 661, 'bharats': 241, 'removes': 1402, 'osama': 1212, 'bin': 251, 'laden': 966, 'letter': 996, 'america': 111, '21': 22, 'blatant': 257, 'islamic': 880, 'justification': 913, 'terrorism': 1681, 'withdrawn': 1863, 'tiktokers': 1706, 'viral': 1804, 'jhajjar': 901, 'palak': 1224, 'haul': 774, 'shooters': 1521, 'london': 1016, 'mayor': 1062, 'trying': 1754, 'divided': 525, 'hillwoods': 803, 'academy': 66, 'greater': 739, 'noida': 1172, 'celebrates': 327, 'great': 738, 'enthusiasm': 577, 'messy': 1081, 'divorces': 527, 'adds': 76, 'medal': 1068, 'tally': 1657, 'archery': 138, 'squash': 1579, 'committing': 391, 'crime': 431, 'netanyahu': 1155, 'urging': 1784, 'babies': 189, 'sprout': 1577, 'ragi': 1351, 'recipes': 1384, 'inside': 864, 'periscope': 1259, 'zoom': 1895, 'lens': 992, 'confirmed': 400, 'uninspired': 1773, 'connections': 403, 'meaningless': 1065, 'conversations': 412, 'sparkless': 1566, 'dates': 451, 'rust': 1445, 'reason': 1381, 'found': 679, 'pml': 1287, 'nawaz': 1145, 'sharif': 1510, 'rid': 1421, 'ladla': 968, 'tag': 1650, 'jyotiraditya': 917, 'scindia': 1472, 'priyanka': 1316, 'height': 788, 'remark': 1399, 'naive': 1131, 'box': 272, 'signifies': 1532, 'popularity': 1301, 'kundali': 961, 'bhagya': 238, 'update': 1781, 'learns': 985, 'rajveer': 1362, 'feelings': 631, 'palki': 1226, 'cauvery': 323, 'protests': 1327, 'roil': 1430, 'lal': 971, 'salaam': 1453, 'teaser': 1667, 'rajinikanth': 1358, 'steels': 1601, 'moideen': 1103, 'bhai': 239, 'asteroid': 165, 'samples': 1456, 'brought': 283, 'earth': 556, 'nasa': 1139, 'first': 657, 'supreme': 1633, 'justice': 912, 'fathima': 624, 'beevi': 220, '96': 57, 'bpsc': 274, '69th': 48, 'main': 1034, 'registration': 1391, 'begins': 221, 'tomorrow': 1721, 'bih': 248, 'nic': 1164, 'negative': 1152, 'pg': 1262, 'med': 1067, 'seats': 1481, 'rwanda': 1447, 'asylum': 166, 'seeker': 1489, 'scheme': 1469, 'declaring': 471, 'unlawful': 1778, 'approach': 136, 'highly': 801, 'sensitive': 1496, 'bmc': 260, 'detects': 495, '900': 54, 'spots': 1575, 'dengue': 482, 'mosquitoes': 1113, 'daily': 447, 'khaira': 935, 'denies': 484, 'rift': 1424, 'pact': 1220, 'qassam': 1336, 'fighters': 642, 'bullets': 289, 'suffers': 1623, 'losses': 1021, 'shah': 1506, 'rukh': 1437, 'attends': 176, 'honour': 817, 'heroes': 795, 'gateway': 703, 'interacts': 870, 'sharad': 1507, 'kelkar': 932, 'runway': 1442, 'gen': 707, 'model': 1099, 'quickly': 1343, 'picture': 1268, 'video': 1799, 'seconds': 1484, 'occupying': 1181, 'mistake': 1095, 'entire': 578, 'myanmar': 1128, 'battalion': 208, 'surrenders': 1638, 'ethnic': 587, 'armed': 143, 'david': 455, 'beckham': 217, 'attended': 174, 'match': 1055, 'wankhede': 1821, 'stadium': 1582, 'while': 1849, 'unicef': 1772, 'goodwill': 725, 'ambassador': 108, 'nani': 1138, 'ss': 1581, 'rajamouli': 1356, 'eega': 563, 'undoubtedly': 1767, 'become': 218, 'biggest': 247, 'all': 102, 'tightening': 1705, 'bankers': 201, 'nbfc': 1146, 'exposure': 611, 'small': 1546, 'unsecured': 1779, 'loans': 1015, 'parties': 1241, 'send': 1495, 'details': 493, 'electoral': 569, 'bonds': 266, 'commission': 390, 'cbi': 324, 'cracks': 426, 'picks': 1266, 'suspects': 1640, 'snowfall': 1550, 'akshay': 98, 'stands': 1590, 'tall': 1656, 'daring': 449, 'daunting': 454, 'uttarakhand': 1787, 'drilling': 549, 'machine': 1028, 'installed': 867, 'speed': 1569, 'considering': 405, 'creating': 428, 'fintech': 652, 'arm': 142, 'expansion': 604, 'weapons': 1836, '600': 43, 'ticketless': 1703, 'travellers': 1741, 'caught': 321, 'dadar': 445, 'respiratory': 1409, 'illnesses': 844, 'caused': 322, 'flu': 666, 'known': 952, 'pathogens': 1246, 'speaker': 1567, 'restores': 1410, 'fellows': 632}\n"
     ]
    }
   ],
   "source": [
    "# Assuming you have imported the necessary vectorizer\n",
    "from sklearn.feature_extraction.text import CountVectorizer\n",
    "\n",
    "# Instantiate the vectorizer\n",
    "vec = CountVectorizer()\n",
    "\n",
    "# Fit the vectorizer on the training data\n",
    "vec.fit(X_train)\n",
    "\n",
    "# Print the number of features (vocabulary size)\n",
    "print(len(vec.get_feature_names_out()))\n",
    "\n",
    "# Print the vocabulary dictionary\n",
    "print(vec.vocabulary_)"
   ]
  },
  {
   "cell_type": "code",
   "execution_count": 10,
   "id": "8b7b02b6",
   "metadata": {},
   "outputs": [
    {
     "data": {
      "text/plain": [
       "<304x1897 sparse matrix of type '<class 'numpy.int64'>'\n",
       "\twith 3572 stored elements in Compressed Sparse Row format>"
      ]
     },
     "execution_count": 10,
     "metadata": {},
     "output_type": "execute_result"
    }
   ],
   "source": [
    "# another way of representing the features\n",
    "X_transformed = vec.transform(X_train)\n",
    "X_transformed"
   ]
  },
  {
   "cell_type": "code",
   "execution_count": 11,
   "id": "9cf56323",
   "metadata": {},
   "outputs": [
    {
     "name": "stdout",
     "output_type": "stream",
     "text": [
      "  (0, 2)\t1\n",
      "  (0, 295)\t1\n",
      "  (0, 367)\t1\n",
      "  (0, 479)\t1\n",
      "  (0, 686)\t1\n",
      "  (0, 778)\t1\n",
      "  (0, 1013)\t1\n",
      "  (0, 1183)\t1\n",
      "  (0, 1321)\t1\n",
      "  (0, 1611)\t1\n",
      "  (0, 1714)\t1\n",
      "  (1, 151)\t1\n",
      "  (1, 384)\t1\n",
      "  (1, 599)\t1\n",
      "  (1, 731)\t1\n",
      "  (1, 947)\t1\n",
      "  (1, 1159)\t1\n",
      "  (1, 1277)\t1\n",
      "  (1, 1407)\t1\n",
      "  (1, 1655)\t1\n",
      "  (1, 1714)\t1\n",
      "  (1, 1739)\t1\n",
      "  (1, 1755)\t1\n",
      "  (1, 1788)\t1\n",
      "  (1, 1870)\t1\n",
      "  :\t:\n",
      "  (301, 1885)\t1\n",
      "  (302, 121)\t1\n",
      "  (302, 295)\t1\n",
      "  (302, 322)\t1\n",
      "  (302, 356)\t1\n",
      "  (302, 666)\t1\n",
      "  (302, 844)\t1\n",
      "  (302, 850)\t1\n",
      "  (302, 878)\t1\n",
      "  (302, 952)\t1\n",
      "  (302, 1214)\t1\n",
      "  (302, 1246)\t1\n",
      "  (302, 1409)\t1\n",
      "  (302, 1466)\t1\n",
      "  (302, 1634)\t1\n",
      "  (303, 83)\t1\n",
      "  (303, 162)\t1\n",
      "  (303, 479)\t1\n",
      "  (303, 632)\t1\n",
      "  (303, 778)\t1\n",
      "  (303, 1186)\t1\n",
      "  (303, 1210)\t1\n",
      "  (303, 1410)\t1\n",
      "  (303, 1500)\t1\n",
      "  (303, 1567)\t1\n"
     ]
    }
   ],
   "source": [
    "print(X_transformed)"
   ]
  },
  {
   "cell_type": "code",
   "execution_count": 12,
   "id": "99e26b04",
   "metadata": {},
   "outputs": [
    {
     "name": "stdout",
     "output_type": "stream",
     "text": [
      "  (0, 2)\t1\n",
      "  (0, 295)\t1\n",
      "  (0, 367)\t1\n",
      "  (0, 479)\t1\n",
      "  (0, 686)\t1\n",
      "  (0, 778)\t1\n",
      "  (0, 1013)\t1\n",
      "  (0, 1183)\t1\n",
      "  (0, 1321)\t1\n",
      "  (0, 1611)\t1\n",
      "  (0, 1714)\t1\n",
      "  (1, 151)\t1\n",
      "  (1, 384)\t1\n",
      "  (1, 599)\t1\n",
      "  (1, 731)\t1\n",
      "  (1, 947)\t1\n",
      "  (1, 1159)\t1\n",
      "  (1, 1277)\t1\n",
      "  (1, 1407)\t1\n",
      "  (1, 1655)\t1\n",
      "  (1, 1714)\t1\n",
      "  (1, 1739)\t1\n",
      "  (1, 1755)\t1\n",
      "  (1, 1788)\t1\n",
      "  (1, 1870)\t1\n",
      "  :\t:\n",
      "  (301, 1885)\t1\n",
      "  (302, 121)\t1\n",
      "  (302, 295)\t1\n",
      "  (302, 322)\t1\n",
      "  (302, 356)\t1\n",
      "  (302, 666)\t1\n",
      "  (302, 844)\t1\n",
      "  (302, 850)\t1\n",
      "  (302, 878)\t1\n",
      "  (302, 952)\t1\n",
      "  (302, 1214)\t1\n",
      "  (302, 1246)\t1\n",
      "  (302, 1409)\t1\n",
      "  (302, 1466)\t1\n",
      "  (302, 1634)\t1\n",
      "  (303, 83)\t1\n",
      "  (303, 162)\t1\n",
      "  (303, 479)\t1\n",
      "  (303, 632)\t1\n",
      "  (303, 778)\t1\n",
      "  (303, 1186)\t1\n",
      "  (303, 1210)\t1\n",
      "  (303, 1410)\t1\n",
      "  (303, 1500)\t1\n",
      "  (303, 1567)\t1\n"
     ]
    }
   ],
   "source": [
    "print(X_transformed)"
   ]
  },
  {
   "cell_type": "code",
   "execution_count": 13,
   "id": "97e9aa2c",
   "metadata": {},
   "outputs": [
    {
     "data": {
      "text/plain": [
       "array([[0, 0, 1, ..., 0, 0, 0],\n",
       "       [0, 0, 0, ..., 0, 0, 0],\n",
       "       [0, 1, 0, ..., 0, 0, 0],\n",
       "       ...,\n",
       "       [0, 0, 0, ..., 0, 0, 0],\n",
       "       [0, 0, 0, ..., 0, 0, 0],\n",
       "       [0, 0, 0, ..., 0, 0, 0]], dtype=int64)"
      ]
     },
     "execution_count": 13,
     "metadata": {},
     "output_type": "execute_result"
    }
   ],
   "source": [
    "X_transformed.toarray()"
   ]
  },
  {
   "cell_type": "code",
   "execution_count": 14,
   "id": "b064e363",
   "metadata": {},
   "outputs": [
    {
     "name": "stdout",
     "output_type": "stream",
     "text": [
      "  (0, 2)\t1\n",
      "  (0, 295)\t1\n",
      "  (0, 367)\t1\n",
      "  (0, 479)\t1\n",
      "  (0, 686)\t1\n",
      "  (0, 778)\t1\n",
      "  (0, 1013)\t1\n",
      "  (0, 1183)\t1\n",
      "  (0, 1321)\t1\n",
      "  (0, 1611)\t1\n",
      "  (0, 1714)\t1\n",
      "  (1, 151)\t1\n",
      "  (1, 384)\t1\n",
      "  (1, 599)\t1\n",
      "  (1, 731)\t1\n",
      "  (1, 947)\t1\n",
      "  (1, 1159)\t1\n",
      "  (1, 1277)\t1\n",
      "  (1, 1407)\t1\n",
      "  (1, 1655)\t1\n",
      "  (1, 1714)\t1\n",
      "  (1, 1739)\t1\n",
      "  (1, 1755)\t1\n",
      "  (1, 1788)\t1\n",
      "  (1, 1870)\t1\n",
      "  :\t:\n",
      "  (301, 1885)\t1\n",
      "  (302, 121)\t1\n",
      "  (302, 295)\t1\n",
      "  (302, 322)\t1\n",
      "  (302, 356)\t1\n",
      "  (302, 666)\t1\n",
      "  (302, 844)\t1\n",
      "  (302, 850)\t1\n",
      "  (302, 878)\t1\n",
      "  (302, 952)\t1\n",
      "  (302, 1214)\t1\n",
      "  (302, 1246)\t1\n",
      "  (302, 1409)\t1\n",
      "  (302, 1466)\t1\n",
      "  (302, 1634)\t1\n",
      "  (303, 83)\t1\n",
      "  (303, 162)\t1\n",
      "  (303, 479)\t1\n",
      "  (303, 632)\t1\n",
      "  (303, 778)\t1\n",
      "  (303, 1186)\t1\n",
      "  (303, 1210)\t1\n",
      "  (303, 1410)\t1\n",
      "  (303, 1500)\t1\n",
      "  (303, 1567)\t1\n"
     ]
    }
   ],
   "source": [
    "print(X_transformed)"
   ]
  },
  {
   "cell_type": "code",
   "execution_count": 15,
   "id": "16ca287b",
   "metadata": {},
   "outputs": [
    {
     "data": {
      "text/plain": [
       "<131x1897 sparse matrix of type '<class 'numpy.int64'>'\n",
       "\twith 959 stored elements in Compressed Sparse Row format>"
      ]
     },
     "execution_count": 15,
     "metadata": {},
     "output_type": "execute_result"
    }
   ],
   "source": [
    "# for test data\n",
    "X_test_transformed = vec.transform(X_test)\n",
    "X_test_transformed"
   ]
  },
  {
   "cell_type": "code",
   "execution_count": 16,
   "id": "b0b33e95",
   "metadata": {},
   "outputs": [
    {
     "name": "stdout",
     "output_type": "stream",
     "text": [
      "  (0, 102)\t1\n",
      "  (0, 212)\t1\n",
      "  (0, 672)\t1\n",
      "  (0, 851)\t1\n",
      "  (0, 1090)\t1\n",
      "  (0, 1167)\t1\n",
      "  (0, 1539)\t1\n",
      "  (0, 1540)\t1\n",
      "  (0, 1597)\t1\n",
      "  (0, 1686)\t1\n",
      "  (0, 1687)\t1\n",
      "  (0, 1855)\t1\n",
      "  (0, 1856)\t2\n",
      "  (1, 28)\t1\n",
      "  (1, 121)\t1\n",
      "  (1, 178)\t1\n",
      "  (1, 179)\t1\n",
      "  (1, 851)\t1\n",
      "  (1, 1013)\t2\n",
      "  (1, 1646)\t1\n",
      "  (1, 1714)\t1\n",
      "  (1, 1815)\t2\n",
      "  (1, 1831)\t1\n",
      "  (1, 1847)\t1\n",
      "  (1, 1848)\t1\n",
      "  :\t:\n",
      "  (129, 1466)\t1\n",
      "  (129, 1714)\t1\n",
      "  (130, 140)\t1\n",
      "  (130, 179)\t1\n",
      "  (130, 191)\t1\n",
      "  (130, 292)\t1\n",
      "  (130, 328)\t1\n",
      "  (130, 337)\t1\n",
      "  (130, 438)\t1\n",
      "  (130, 816)\t1\n",
      "  (130, 1170)\t2\n",
      "  (130, 1200)\t1\n",
      "  (130, 1208)\t1\n",
      "  (130, 1234)\t1\n",
      "  (130, 1329)\t1\n",
      "  (130, 1383)\t1\n",
      "  (130, 1415)\t1\n",
      "  (130, 1689)\t1\n",
      "  (130, 1714)\t1\n",
      "  (130, 1749)\t1\n",
      "  (130, 1841)\t1\n",
      "  (130, 1852)\t1\n",
      "  (130, 1858)\t1\n",
      "  (130, 1872)\t1\n",
      "  (130, 1882)\t1\n"
     ]
    }
   ],
   "source": [
    "print(X_test_transformed)"
   ]
  },
  {
   "cell_type": "code",
   "execution_count": 17,
   "id": "81642e16",
   "metadata": {},
   "outputs": [
    {
     "data": {
      "text/html": [
       "<div>\n",
       "<style scoped>\n",
       "    .dataframe tbody tr th:only-of-type {\n",
       "        vertical-align: middle;\n",
       "    }\n",
       "\n",
       "    .dataframe tbody tr th {\n",
       "        vertical-align: top;\n",
       "    }\n",
       "\n",
       "    .dataframe thead th {\n",
       "        text-align: right;\n",
       "    }\n",
       "</style>\n",
       "<table border=\"1\" class=\"dataframe\">\n",
       "  <thead>\n",
       "    <tr style=\"text-align: right;\">\n",
       "      <th></th>\n",
       "      <th>10</th>\n",
       "      <th>10th</th>\n",
       "      <th>11</th>\n",
       "      <th>12</th>\n",
       "      <th>12th</th>\n",
       "      <th>13</th>\n",
       "      <th>132</th>\n",
       "      <th>13c</th>\n",
       "      <th>15</th>\n",
       "      <th>16</th>\n",
       "      <th>...</th>\n",
       "      <th>your</th>\n",
       "      <th>youtuber</th>\n",
       "      <th>yr</th>\n",
       "      <th>zeal</th>\n",
       "      <th>zealand</th>\n",
       "      <th>zerodha</th>\n",
       "      <th>zeta</th>\n",
       "      <th>zone</th>\n",
       "      <th>zoom</th>\n",
       "      <th>zoya</th>\n",
       "    </tr>\n",
       "  </thead>\n",
       "  <tbody>\n",
       "    <tr>\n",
       "      <th>0</th>\n",
       "      <td>0</td>\n",
       "      <td>0</td>\n",
       "      <td>1</td>\n",
       "      <td>0</td>\n",
       "      <td>0</td>\n",
       "      <td>0</td>\n",
       "      <td>0</td>\n",
       "      <td>0</td>\n",
       "      <td>0</td>\n",
       "      <td>0</td>\n",
       "      <td>...</td>\n",
       "      <td>0</td>\n",
       "      <td>0</td>\n",
       "      <td>0</td>\n",
       "      <td>0</td>\n",
       "      <td>0</td>\n",
       "      <td>0</td>\n",
       "      <td>0</td>\n",
       "      <td>0</td>\n",
       "      <td>0</td>\n",
       "      <td>0</td>\n",
       "    </tr>\n",
       "    <tr>\n",
       "      <th>1</th>\n",
       "      <td>0</td>\n",
       "      <td>0</td>\n",
       "      <td>0</td>\n",
       "      <td>0</td>\n",
       "      <td>0</td>\n",
       "      <td>0</td>\n",
       "      <td>0</td>\n",
       "      <td>0</td>\n",
       "      <td>0</td>\n",
       "      <td>0</td>\n",
       "      <td>...</td>\n",
       "      <td>0</td>\n",
       "      <td>0</td>\n",
       "      <td>0</td>\n",
       "      <td>0</td>\n",
       "      <td>0</td>\n",
       "      <td>0</td>\n",
       "      <td>0</td>\n",
       "      <td>0</td>\n",
       "      <td>0</td>\n",
       "      <td>0</td>\n",
       "    </tr>\n",
       "    <tr>\n",
       "      <th>2</th>\n",
       "      <td>0</td>\n",
       "      <td>1</td>\n",
       "      <td>0</td>\n",
       "      <td>0</td>\n",
       "      <td>0</td>\n",
       "      <td>0</td>\n",
       "      <td>0</td>\n",
       "      <td>0</td>\n",
       "      <td>0</td>\n",
       "      <td>0</td>\n",
       "      <td>...</td>\n",
       "      <td>0</td>\n",
       "      <td>0</td>\n",
       "      <td>0</td>\n",
       "      <td>0</td>\n",
       "      <td>0</td>\n",
       "      <td>0</td>\n",
       "      <td>0</td>\n",
       "      <td>0</td>\n",
       "      <td>0</td>\n",
       "      <td>0</td>\n",
       "    </tr>\n",
       "    <tr>\n",
       "      <th>3</th>\n",
       "      <td>2</td>\n",
       "      <td>0</td>\n",
       "      <td>1</td>\n",
       "      <td>0</td>\n",
       "      <td>0</td>\n",
       "      <td>0</td>\n",
       "      <td>0</td>\n",
       "      <td>0</td>\n",
       "      <td>0</td>\n",
       "      <td>0</td>\n",
       "      <td>...</td>\n",
       "      <td>0</td>\n",
       "      <td>0</td>\n",
       "      <td>0</td>\n",
       "      <td>0</td>\n",
       "      <td>0</td>\n",
       "      <td>0</td>\n",
       "      <td>0</td>\n",
       "      <td>0</td>\n",
       "      <td>0</td>\n",
       "      <td>0</td>\n",
       "    </tr>\n",
       "    <tr>\n",
       "      <th>4</th>\n",
       "      <td>0</td>\n",
       "      <td>0</td>\n",
       "      <td>0</td>\n",
       "      <td>0</td>\n",
       "      <td>0</td>\n",
       "      <td>0</td>\n",
       "      <td>0</td>\n",
       "      <td>0</td>\n",
       "      <td>0</td>\n",
       "      <td>0</td>\n",
       "      <td>...</td>\n",
       "      <td>0</td>\n",
       "      <td>0</td>\n",
       "      <td>0</td>\n",
       "      <td>0</td>\n",
       "      <td>0</td>\n",
       "      <td>0</td>\n",
       "      <td>0</td>\n",
       "      <td>0</td>\n",
       "      <td>0</td>\n",
       "      <td>0</td>\n",
       "    </tr>\n",
       "    <tr>\n",
       "      <th>...</th>\n",
       "      <td>...</td>\n",
       "      <td>...</td>\n",
       "      <td>...</td>\n",
       "      <td>...</td>\n",
       "      <td>...</td>\n",
       "      <td>...</td>\n",
       "      <td>...</td>\n",
       "      <td>...</td>\n",
       "      <td>...</td>\n",
       "      <td>...</td>\n",
       "      <td>...</td>\n",
       "      <td>...</td>\n",
       "      <td>...</td>\n",
       "      <td>...</td>\n",
       "      <td>...</td>\n",
       "      <td>...</td>\n",
       "      <td>...</td>\n",
       "      <td>...</td>\n",
       "      <td>...</td>\n",
       "      <td>...</td>\n",
       "      <td>...</td>\n",
       "    </tr>\n",
       "    <tr>\n",
       "      <th>299</th>\n",
       "      <td>0</td>\n",
       "      <td>0</td>\n",
       "      <td>0</td>\n",
       "      <td>0</td>\n",
       "      <td>0</td>\n",
       "      <td>0</td>\n",
       "      <td>0</td>\n",
       "      <td>0</td>\n",
       "      <td>0</td>\n",
       "      <td>0</td>\n",
       "      <td>...</td>\n",
       "      <td>0</td>\n",
       "      <td>0</td>\n",
       "      <td>0</td>\n",
       "      <td>0</td>\n",
       "      <td>0</td>\n",
       "      <td>0</td>\n",
       "      <td>0</td>\n",
       "      <td>0</td>\n",
       "      <td>0</td>\n",
       "      <td>0</td>\n",
       "    </tr>\n",
       "    <tr>\n",
       "      <th>300</th>\n",
       "      <td>0</td>\n",
       "      <td>0</td>\n",
       "      <td>0</td>\n",
       "      <td>0</td>\n",
       "      <td>0</td>\n",
       "      <td>0</td>\n",
       "      <td>0</td>\n",
       "      <td>0</td>\n",
       "      <td>0</td>\n",
       "      <td>0</td>\n",
       "      <td>...</td>\n",
       "      <td>0</td>\n",
       "      <td>0</td>\n",
       "      <td>0</td>\n",
       "      <td>0</td>\n",
       "      <td>0</td>\n",
       "      <td>0</td>\n",
       "      <td>0</td>\n",
       "      <td>0</td>\n",
       "      <td>0</td>\n",
       "      <td>0</td>\n",
       "    </tr>\n",
       "    <tr>\n",
       "      <th>301</th>\n",
       "      <td>0</td>\n",
       "      <td>0</td>\n",
       "      <td>0</td>\n",
       "      <td>0</td>\n",
       "      <td>0</td>\n",
       "      <td>0</td>\n",
       "      <td>0</td>\n",
       "      <td>0</td>\n",
       "      <td>0</td>\n",
       "      <td>0</td>\n",
       "      <td>...</td>\n",
       "      <td>0</td>\n",
       "      <td>0</td>\n",
       "      <td>0</td>\n",
       "      <td>0</td>\n",
       "      <td>0</td>\n",
       "      <td>0</td>\n",
       "      <td>0</td>\n",
       "      <td>0</td>\n",
       "      <td>0</td>\n",
       "      <td>0</td>\n",
       "    </tr>\n",
       "    <tr>\n",
       "      <th>302</th>\n",
       "      <td>0</td>\n",
       "      <td>0</td>\n",
       "      <td>0</td>\n",
       "      <td>0</td>\n",
       "      <td>0</td>\n",
       "      <td>0</td>\n",
       "      <td>0</td>\n",
       "      <td>0</td>\n",
       "      <td>0</td>\n",
       "      <td>0</td>\n",
       "      <td>...</td>\n",
       "      <td>0</td>\n",
       "      <td>0</td>\n",
       "      <td>0</td>\n",
       "      <td>0</td>\n",
       "      <td>0</td>\n",
       "      <td>0</td>\n",
       "      <td>0</td>\n",
       "      <td>0</td>\n",
       "      <td>0</td>\n",
       "      <td>0</td>\n",
       "    </tr>\n",
       "    <tr>\n",
       "      <th>303</th>\n",
       "      <td>0</td>\n",
       "      <td>0</td>\n",
       "      <td>0</td>\n",
       "      <td>0</td>\n",
       "      <td>0</td>\n",
       "      <td>0</td>\n",
       "      <td>0</td>\n",
       "      <td>0</td>\n",
       "      <td>0</td>\n",
       "      <td>0</td>\n",
       "      <td>...</td>\n",
       "      <td>0</td>\n",
       "      <td>0</td>\n",
       "      <td>0</td>\n",
       "      <td>0</td>\n",
       "      <td>0</td>\n",
       "      <td>0</td>\n",
       "      <td>0</td>\n",
       "      <td>0</td>\n",
       "      <td>0</td>\n",
       "      <td>0</td>\n",
       "    </tr>\n",
       "  </tbody>\n",
       "</table>\n",
       "<p>304 rows × 1897 columns</p>\n",
       "</div>"
      ],
      "text/plain": [
       "     10  10th  11  12  12th  13  132  13c  15  16  ...  your  youtuber  yr  \\\n",
       "0     0     0   1   0     0   0    0    0   0   0  ...     0         0   0   \n",
       "1     0     0   0   0     0   0    0    0   0   0  ...     0         0   0   \n",
       "2     0     1   0   0     0   0    0    0   0   0  ...     0         0   0   \n",
       "3     2     0   1   0     0   0    0    0   0   0  ...     0         0   0   \n",
       "4     0     0   0   0     0   0    0    0   0   0  ...     0         0   0   \n",
       "..   ..   ...  ..  ..   ...  ..  ...  ...  ..  ..  ...   ...       ...  ..   \n",
       "299   0     0   0   0     0   0    0    0   0   0  ...     0         0   0   \n",
       "300   0     0   0   0     0   0    0    0   0   0  ...     0         0   0   \n",
       "301   0     0   0   0     0   0    0    0   0   0  ...     0         0   0   \n",
       "302   0     0   0   0     0   0    0    0   0   0  ...     0         0   0   \n",
       "303   0     0   0   0     0   0    0    0   0   0  ...     0         0   0   \n",
       "\n",
       "     zeal  zealand  zerodha  zeta  zone  zoom  zoya  \n",
       "0       0        0        0     0     0     0     0  \n",
       "1       0        0        0     0     0     0     0  \n",
       "2       0        0        0     0     0     0     0  \n",
       "3       0        0        0     0     0     0     0  \n",
       "4       0        0        0     0     0     0     0  \n",
       "..    ...      ...      ...   ...   ...   ...   ...  \n",
       "299     0        0        0     0     0     0     0  \n",
       "300     0        0        0     0     0     0     0  \n",
       "301     0        0        0     0     0     0     0  \n",
       "302     0        0        0     0     0     0     0  \n",
       "303     0        0        0     0     0     0     0  \n",
       "\n",
       "[304 rows x 1897 columns]"
      ]
     },
     "execution_count": 17,
     "metadata": {},
     "output_type": "execute_result"
    }
   ],
   "source": [
    "# Assuming you have imported the necessary libraries\n",
    "from sklearn.feature_extraction.text import CountVectorizer\n",
    "import pandas as pd\n",
    "\n",
    "# Instantiate the vectorizer\n",
    "vec = CountVectorizer()\n",
    "\n",
    "# Fit and transform the vectorizer on the training data\n",
    "X_train_transformed = vec.fit_transform(X_train)\n",
    "\n",
    "# Convert X_train_transformed to a DataFrame for readability\n",
    "pd.DataFrame(X_train_transformed.toarray(), columns=vec.get_feature_names_out())\n"
   ]
  },
  {
   "cell_type": "code",
   "execution_count": 18,
   "id": "01bdd057",
   "metadata": {},
   "outputs": [
    {
     "data": {
      "text/html": [
       "<style>#sk-container-id-1 {color: black;}#sk-container-id-1 pre{padding: 0;}#sk-container-id-1 div.sk-toggleable {background-color: white;}#sk-container-id-1 label.sk-toggleable__label {cursor: pointer;display: block;width: 100%;margin-bottom: 0;padding: 0.3em;box-sizing: border-box;text-align: center;}#sk-container-id-1 label.sk-toggleable__label-arrow:before {content: \"▸\";float: left;margin-right: 0.25em;color: #696969;}#sk-container-id-1 label.sk-toggleable__label-arrow:hover:before {color: black;}#sk-container-id-1 div.sk-estimator:hover label.sk-toggleable__label-arrow:before {color: black;}#sk-container-id-1 div.sk-toggleable__content {max-height: 0;max-width: 0;overflow: hidden;text-align: left;background-color: #f0f8ff;}#sk-container-id-1 div.sk-toggleable__content pre {margin: 0.2em;color: black;border-radius: 0.25em;background-color: #f0f8ff;}#sk-container-id-1 input.sk-toggleable__control:checked~div.sk-toggleable__content {max-height: 200px;max-width: 100%;overflow: auto;}#sk-container-id-1 input.sk-toggleable__control:checked~label.sk-toggleable__label-arrow:before {content: \"▾\";}#sk-container-id-1 div.sk-estimator input.sk-toggleable__control:checked~label.sk-toggleable__label {background-color: #d4ebff;}#sk-container-id-1 div.sk-label input.sk-toggleable__control:checked~label.sk-toggleable__label {background-color: #d4ebff;}#sk-container-id-1 input.sk-hidden--visually {border: 0;clip: rect(1px 1px 1px 1px);clip: rect(1px, 1px, 1px, 1px);height: 1px;margin: -1px;overflow: hidden;padding: 0;position: absolute;width: 1px;}#sk-container-id-1 div.sk-estimator {font-family: monospace;background-color: #f0f8ff;border: 1px dotted black;border-radius: 0.25em;box-sizing: border-box;margin-bottom: 0.5em;}#sk-container-id-1 div.sk-estimator:hover {background-color: #d4ebff;}#sk-container-id-1 div.sk-parallel-item::after {content: \"\";width: 100%;border-bottom: 1px solid gray;flex-grow: 1;}#sk-container-id-1 div.sk-label:hover label.sk-toggleable__label {background-color: #d4ebff;}#sk-container-id-1 div.sk-serial::before {content: \"\";position: absolute;border-left: 1px solid gray;box-sizing: border-box;top: 0;bottom: 0;left: 50%;z-index: 0;}#sk-container-id-1 div.sk-serial {display: flex;flex-direction: column;align-items: center;background-color: white;padding-right: 0.2em;padding-left: 0.2em;position: relative;}#sk-container-id-1 div.sk-item {position: relative;z-index: 1;}#sk-container-id-1 div.sk-parallel {display: flex;align-items: stretch;justify-content: center;background-color: white;position: relative;}#sk-container-id-1 div.sk-item::before, #sk-container-id-1 div.sk-parallel-item::before {content: \"\";position: absolute;border-left: 1px solid gray;box-sizing: border-box;top: 0;bottom: 0;left: 50%;z-index: -1;}#sk-container-id-1 div.sk-parallel-item {display: flex;flex-direction: column;z-index: 1;position: relative;background-color: white;}#sk-container-id-1 div.sk-parallel-item:first-child::after {align-self: flex-end;width: 50%;}#sk-container-id-1 div.sk-parallel-item:last-child::after {align-self: flex-start;width: 50%;}#sk-container-id-1 div.sk-parallel-item:only-child::after {width: 0;}#sk-container-id-1 div.sk-dashed-wrapped {border: 1px dashed gray;margin: 0 0.4em 0.5em 0.4em;box-sizing: border-box;padding-bottom: 0.4em;background-color: white;}#sk-container-id-1 div.sk-label label {font-family: monospace;font-weight: bold;display: inline-block;line-height: 1.2em;}#sk-container-id-1 div.sk-label-container {text-align: center;}#sk-container-id-1 div.sk-container {/* jupyter's `normalize.less` sets `[hidden] { display: none; }` but bootstrap.min.css set `[hidden] { display: none !important; }` so we also need the `!important` here to be able to override the default hidden behavior on the sphinx rendered scikit-learn.org. See: https://github.com/scikit-learn/scikit-learn/issues/21755 */display: inline-block !important;position: relative;}#sk-container-id-1 div.sk-text-repr-fallback {display: none;}</style><div id=\"sk-container-id-1\" class=\"sk-top-container\"><div class=\"sk-text-repr-fallback\"><pre>MultinomialNB()</pre><b>In a Jupyter environment, please rerun this cell to show the HTML representation or trust the notebook. <br />On GitHub, the HTML representation is unable to render, please try loading this page with nbviewer.org.</b></div><div class=\"sk-container\" hidden><div class=\"sk-item\"><div class=\"sk-estimator sk-toggleable\"><input class=\"sk-toggleable__control sk-hidden--visually\" id=\"sk-estimator-id-1\" type=\"checkbox\" checked><label for=\"sk-estimator-id-1\" class=\"sk-toggleable__label sk-toggleable__label-arrow\">MultinomialNB</label><div class=\"sk-toggleable__content\"><pre>MultinomialNB()</pre></div></div></div></div></div>"
      ],
      "text/plain": [
       "MultinomialNB()"
      ]
     },
     "execution_count": 18,
     "metadata": {},
     "output_type": "execute_result"
    }
   ],
   "source": [
    "from sklearn.naive_bayes import MultinomialNB\n",
    "\n",
    "nb = MultinomialNB()\n",
    "nb.fit(X_transformed, y_train)"
   ]
  },
  {
   "cell_type": "code",
   "execution_count": 19,
   "id": "4bd671ff",
   "metadata": {},
   "outputs": [],
   "source": [
    "# fit\n",
    "nb.fit(X_transformed,y_train)\n",
    "\n",
    "# predict class\n",
    "y_pred_class = nb.predict(X_test_transformed)\n",
    "\n",
    "# predict probabilities\n",
    "y_pred_proba = nb.predict_proba(X_test_transformed)"
   ]
  },
  {
   "cell_type": "code",
   "execution_count": 20,
   "id": "f2e39bbb",
   "metadata": {},
   "outputs": [
    {
     "data": {
      "text/plain": [
       "0.4351145038167939"
      ]
     },
     "execution_count": 20,
     "metadata": {},
     "output_type": "execute_result"
    }
   ],
   "source": [
    "# printing the overall accuracy\n",
    "from sklearn import metrics\n",
    "metrics.accuracy_score(y_test, y_pred_class)"
   ]
  },
  {
   "cell_type": "code",
   "execution_count": 21,
   "id": "5e472b34",
   "metadata": {},
   "outputs": [
    {
     "data": {
      "text/plain": [
       "array([[10,  0,  4,  0,  0,  1,  0,  0,  0,  0,  0,  2],\n",
       "       [ 0,  9,  2,  0,  0,  1,  0,  0,  0,  0,  0,  3],\n",
       "       [ 3,  0, 16,  0,  0,  0,  0,  0,  0,  0,  0,  0],\n",
       "       [ 1,  0,  4,  0,  0,  0,  0,  0,  0,  0,  0,  1],\n",
       "       [ 3,  2,  0,  0,  3,  0,  0,  0,  0,  0,  0,  0],\n",
       "       [ 0,  3,  4,  0,  1,  5,  0,  0,  0,  0,  0,  3],\n",
       "       [ 0,  1,  1,  0,  0,  0,  0,  0,  0,  0,  0,  0],\n",
       "       [ 0,  4,  3,  0,  0,  0,  0,  2,  0,  0,  0,  3],\n",
       "       [ 0,  0,  4,  0,  0,  0,  0,  0,  3,  0,  0,  0],\n",
       "       [ 5,  0,  1,  0,  0,  0,  0,  0,  0,  1,  0,  0],\n",
       "       [ 1,  1,  2,  0,  0,  0,  0,  0,  0,  2,  2,  0],\n",
       "       [ 2,  2,  2,  0,  0,  2,  0,  0,  0,  0,  0,  6]], dtype=int64)"
      ]
     },
     "execution_count": 21,
     "metadata": {},
     "output_type": "execute_result"
    }
   ],
   "source": [
    "# confusion matrix\n",
    "metrics.confusion_matrix(y_test, y_pred_class)\n",
    "# help(metrics.confusion_matrix)"
   ]
  },
  {
   "cell_type": "code",
   "execution_count": 22,
   "id": "fa5804fd",
   "metadata": {},
   "outputs": [
    {
     "name": "stdout",
     "output_type": "stream",
     "text": [
      "[[10  0  4  0  0  1  0  0  0  0  0  2]\n",
      " [ 0  9  2  0  0  1  0  0  0  0  0  3]\n",
      " [ 3  0 16  0  0  0  0  0  0  0  0  0]\n",
      " [ 1  0  4  0  0  0  0  0  0  0  0  1]\n",
      " [ 3  2  0  0  3  0  0  0  0  0  0  0]\n",
      " [ 0  3  4  0  1  5  0  0  0  0  0  3]\n",
      " [ 0  1  1  0  0  0  0  0  0  0  0  0]\n",
      " [ 0  4  3  0  0  0  0  2  0  0  0  3]\n",
      " [ 0  0  4  0  0  0  0  0  3  0  0  0]\n",
      " [ 5  0  1  0  0  0  0  0  0  1  0  0]\n",
      " [ 1  1  2  0  0  0  0  0  0  2  2  0]\n",
      " [ 2  2  2  0  0  2  0  0  0  0  0  6]]\n"
     ]
    }
   ],
   "source": [
    "confusion = metrics.confusion_matrix(y_test, y_pred_class)\n",
    "print(confusion)\n",
    "TN = confusion[0, 0]\n",
    "FP = confusion[0, 1]\n",
    "FN = confusion[1, 0]\n",
    "TP = confusion[1, 1]"
   ]
  },
  {
   "cell_type": "code",
   "execution_count": 23,
   "id": "fb06537f",
   "metadata": {},
   "outputs": [
    {
     "name": "stdout",
     "output_type": "stream",
     "text": [
      "sensitivity 1.0\n",
      "specificity 1.0\n"
     ]
    }
   ],
   "source": [
    "sensitivity = TP / float(FN + TP)\n",
    "print(\"sensitivity\",sensitivity)\n",
    "\n",
    "specificity = TN / float(TN + FP)\n",
    "print(\"specificity\",specificity)"
   ]
  },
  {
   "cell_type": "code",
   "execution_count": 24,
   "id": "c342aa1d",
   "metadata": {},
   "outputs": [
    {
     "name": "stdout",
     "output_type": "stream",
     "text": [
      "PRECISION SCORE : 0.4351145038167939\n",
      "RECALL SCORE : 0.4351145038167939\n",
      "F1 SCORE : 0.4351145038167939\n"
     ]
    }
   ],
   "source": [
    "print(\"PRECISION SCORE :\",metrics.precision_score(y_test, y_pred_class, average = 'micro'))\n",
    "print(\"RECALL SCORE :\", metrics.recall_score(y_test, y_pred_class, average = 'micro'))\n",
    "print(\"F1 SCORE :\",metrics.f1_score(y_test, y_pred_class, average = 'micro'))"
   ]
  },
  {
   "cell_type": "code",
   "execution_count": 25,
   "id": "c5b8a460",
   "metadata": {},
   "outputs": [
    {
     "name": "stdout",
     "output_type": "stream",
     "text": [
      "Headline: ['FIR against Delhi Minorities Commission chairman for inflammatory content on social media']\n",
      "Political\n"
     ]
    }
   ],
   "source": [
    "s1 = ['FIR against Delhi Minorities Commission chairman for inflammatory content on social media']\n",
    "vec1 = vec.transform(s1).toarray()\n",
    "print('Headline:' ,s1)\n",
    "print(str(list(nb.predict(vec1))[0]).replace('0', 'Entertaiment').replace('1', 'Political').replace('2', 'Sports').replace('3','Education').replace('4','Enviroment').replace('5','Crime').replace('6','India').replace('7','Health').replace('8','Business').replace('9','World').replace('10','Lifestyle').replace('11','').replace('12','Technology').replace('13','State'))"
   ]
  },
  {
   "cell_type": "code",
   "execution_count": 26,
   "id": "2037fed3",
   "metadata": {},
   "outputs": [
    {
     "name": "stdout",
     "output_type": "stream",
     "text": [
      "Headline: ['Amidst chaos,  Fernando Diniz sparkles hopes of a revolution with Selecao']\n",
      "Sports\n"
     ]
    }
   ],
   "source": [
    "s1 = ['Amidst chaos,  Fernando Diniz sparkles hopes of a revolution with Selecao']\n",
    "vec1 = vec.transform(s1).toarray()\n",
    "print('Headline:' ,s1)\n",
    "print(str(list(nb.predict(vec1))[0]).replace('0', 'Entertaiment').replace('1', 'Political').replace('2', 'Sports').replace('3','Education').replace('4','Enviroment').replace('5','Crime').replace('6','India').replace('7','Health').replace('8','Business').replace('9','World').replace('10','Lifestyle').replace('11','').replace('12','Technology').replace('13','State'))"
   ]
  },
  {
   "cell_type": "code",
   "execution_count": 27,
   "id": "7ad394d8",
   "metadata": {},
   "outputs": [
    {
     "name": "stdout",
     "output_type": "stream",
     "text": [
      "Headline: ['IPL 2024: Shubman Gill named as Gujarat Titans captain after Hardik Pandya']\n",
      "Sports\n"
     ]
    }
   ],
   "source": [
    "s1 = ['IPL 2024: Shubman Gill named as Gujarat Titans captain after Hardik Pandya']\n",
    "vec1 = vec.transform(s1).toarray()\n",
    "print('Headline:' ,s1)\n",
    "print(str(list(nb.predict(vec1))[0]).replace('0', 'Entertaiment').replace('1', 'Political').replace('2', 'Sports').replace('3','Education').replace('4','Enviroment').replace('5','Crime').replace('6','India').replace('7','Health').replace('8','Business').replace('9','World').replace('10','Lifestyle').replace('11','').replace('12','Technology').replace('13','State'))"
   ]
  },
  {
   "cell_type": "code",
   "execution_count": 28,
   "id": "42c21554",
   "metadata": {},
   "outputs": [
    {
     "name": "stdout",
     "output_type": "stream",
     "text": [
      "Validation Accuracy: 0.49\n",
      "Testing Accuracy: 0.39\n",
      "Classification Report:\n",
      "              precision    recall  f1-score   support\n",
      "\n",
      "           0       0.40      0.50      0.44         8\n",
      "           1       0.23      0.43      0.30         7\n",
      "           2       0.38      1.00      0.55         8\n",
      "           3       0.00      0.00      0.00         5\n",
      "           5       0.00      0.00      0.00         4\n",
      "           6       0.44      0.40      0.42        10\n",
      "           7       0.00      0.00      0.00         1\n",
      "           8       1.00      0.40      0.57         5\n",
      "           9       0.50      0.50      0.50         2\n",
      "          10       0.25      0.50      0.33         2\n",
      "          11       0.00      0.00      0.00         2\n",
      "          12       0.60      0.25      0.35        12\n",
      "\n",
      "    accuracy                           0.39        66\n",
      "   macro avg       0.32      0.33      0.29        66\n",
      "weighted avg       0.39      0.39      0.35        66\n",
      "\n"
     ]
    },
    {
     "name": "stderr",
     "output_type": "stream",
     "text": [
      "C:\\New folder\\Lib\\site-packages\\sklearn\\metrics\\_classification.py:1471: UndefinedMetricWarning: Precision and F-score are ill-defined and being set to 0.0 in labels with no predicted samples. Use `zero_division` parameter to control this behavior.\n",
      "  _warn_prf(average, modifier, msg_start, len(result))\n",
      "C:\\New folder\\Lib\\site-packages\\sklearn\\metrics\\_classification.py:1471: UndefinedMetricWarning: Precision and F-score are ill-defined and being set to 0.0 in labels with no predicted samples. Use `zero_division` parameter to control this behavior.\n",
      "  _warn_prf(average, modifier, msg_start, len(result))\n",
      "C:\\New folder\\Lib\\site-packages\\sklearn\\metrics\\_classification.py:1471: UndefinedMetricWarning: Precision and F-score are ill-defined and being set to 0.0 in labels with no predicted samples. Use `zero_division` parameter to control this behavior.\n",
      "  _warn_prf(average, modifier, msg_start, len(result))\n"
     ]
    }
   ],
   "source": [
    "# Assuming you have your data (X) and labels (y)\n",
    "\n",
    "from sklearn.model_selection import train_test_split\n",
    "from sklearn.feature_extraction.text import CountVectorizer  # or TfidfVectorizer\n",
    "from sklearn.naive_bayes import MultinomialNB  # or any other classifier\n",
    "from sklearn.metrics import accuracy_score, classification_report\n",
    "\n",
    "# Split the dataset into training, validation, and testing sets\n",
    "X_train, X_temp, y_train, y_temp = train_test_split(X, y, test_size=0.3, random_state=42)\n",
    "X_val, X_test, y_val, y_test = train_test_split(X_temp, y_temp, test_size=0.5, random_state=42)\n",
    "\n",
    "# Instantiate a vectorizer (e.g., CountVectorizer or TfidfVectorizer)\n",
    "vec = CountVectorizer()\n",
    "\n",
    "# Fit and transform on the training data, and transform the validation and testing data\n",
    "X_train_transformed = vec.fit_transform(X_train)\n",
    "X_val_transformed = vec.transform(X_val)\n",
    "X_test_transformed = vec.transform(X_test)\n",
    "\n",
    "# Instantiate a classifier (e.g., Naive Bayes)\n",
    "classifier = MultinomialNB()\n",
    "\n",
    "# Train the classifier on the training data\n",
    "classifier.fit(X_train_transformed, y_train)\n",
    "\n",
    "# Validate the model on the validation set\n",
    "y_val_pred = classifier.predict(X_val_transformed)\n",
    "\n",
    "# Evaluate the model on the validation set\n",
    "val_accuracy = accuracy_score(y_val, y_val_pred)\n",
    "print(f\"Validation Accuracy: {val_accuracy:.2f}\")\n",
    "\n",
    "# Test the model on the testing set\n",
    "y_test_pred = classifier.predict(X_test_transformed)\n",
    "# Evaluate the model on the testing set\n",
    "test_accuracy = accuracy_score(y_test, y_test_pred)\n",
    "print(f\"Testing Accuracy: {test_accuracy:.2f}\")\n",
    "\n",
    "# Print classification report for more detailed evaluation metrics on the testing set\n",
    "print(\"Classification Report:\")\n",
    "print(classification_report(y_test, y_test_pred))\n"
   ]
  },
  {
   "cell_type": "code",
   "execution_count": null,
   "id": "23f3d524",
   "metadata": {},
   "outputs": [],
   "source": []
  }
 ],
 "metadata": {
  "kernelspec": {
   "display_name": "Python 3 (ipykernel)",
   "language": "python",
   "name": "python3"
  },
  "language_info": {
   "codemirror_mode": {
    "name": "ipython",
    "version": 3
   },
   "file_extension": ".py",
   "mimetype": "text/x-python",
   "name": "python",
   "nbconvert_exporter": "python",
   "pygments_lexer": "ipython3",
   "version": "3.11.1"
  }
 },
 "nbformat": 4,
 "nbformat_minor": 5
}
